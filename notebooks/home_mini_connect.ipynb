{
 "cells": [
  {
   "cell_type": "code",
   "execution_count": null,
   "metadata": {},
   "outputs": [],
   "source": [
    "import time\n",
    "import pychromecast\n",
    "from pychromecast.controllers.youtube import YouTubeController\n",
    "\n",
    "\n",
    "# chromecasts = pychromecast.get_chromecasts()\n",
    "# chromecast = next(cc for cc in chromecasts\n",
    "#                   if cc.device.friendly_name == \"Office speaker\")\n",
    "\n",
    "chromecast = pychromecast.Chromecast(\"10.0.0.110\")\n",
    "chromecast.wait()"
   ]
  },
  {
   "cell_type": "code",
   "execution_count": null,
   "metadata": {},
   "outputs": [],
   "source": [
    "yt = YouTubeController()\n",
    "chromecast.register_handler(yt)\n",
    "video_id = \"FldZROeT6K8\"\n",
    "yt.play_video(video_id)"
   ]
  },
  {
   "cell_type": "code",
   "execution_count": null,
   "metadata": {},
   "outputs": [],
   "source": [
    "chromecast.quit_app()"
   ]
  },
  {
   "cell_type": "code",
   "execution_count": null,
   "metadata": {},
   "outputs": [],
   "source": [
    "import time\n",
    "import pychromecast\n",
    "\n",
    "chromecasts = pychromecast.get_chromecasts()\n",
    "\n",
    "# cast = next(cc for cc in chromecasts if cc.device.friendly_name == \"Office speaker\")\n",
    "# Start worker thread and wait for cast device to be ready\n",
    "cast = pychromecast.Chromecast(\"10.0.0.110\")\n",
    "cast.wait()\n",
    "print(cast.device)\n",
    "\n",
    "print(cast.status)\n",
    "\n",
    "mc = cast.media_controller\n",
    "mc.play_media('http://commondatastorage.googleapis.com/gtv-videos-bucket/sample/BigBuckBunny.mp4', 'video/mp4')\n",
    "mc.block_until_active()\n",
    "print(mc.status)\n",
    "\n",
    "mc.pause()\n",
    "time.sleep(5)\n",
    "mc.play()"
   ]
  },
  {
   "cell_type": "code",
   "execution_count": null,
   "metadata": {},
   "outputs": [],
   "source": [
    "import sys\n",
    "import pathlib\n",
    "import pychromecast\n",
    "import os\n",
    "import os.path\n",
    "from gtts import gTTS\n",
    "import time\n",
    "import hashlib\n",
    "\n",
    "ip = \"10.0.0.110\"\n",
    "\n",
    "castdevice = pychromecast.Chromecast(ip)\n",
    "castdevice.wait()\n",
    "vol_prec=castdevice.status.volume_level\n",
    "# castdevice.set_volume(0.0) #set volume 0 for not hear the BEEEP\n",
    "\n",
    "mc = castdevice.media_controller\n",
    "# mc.play_media(\"http://soundbible.com/mp3/Avalanche-SoundBible.com-1774366762.mp3\", \"audio/mp3\")\n",
    "# mc.play_media(\"http://10.0.0.212:8000//welcome.mp3\", \"audio/mp3\")\n",
    "mc.play_media(\"http://10.0.0.212:8000//Rainfall (feat. Tiana Major9).mp3\", \"audio/mp3\")\n",
    "\n",
    "mc.block_until_active()\n",
    "\n",
    "mc.pause() #prepare audio and pause...\n",
    "\n",
    "time.sleep(1)\n",
    "castdevice.set_volume(vol_prec) #setting volume to precedent value\n",
    "time.sleep(0.2)\n",
    "\n",
    "mc.play() #play the mp3\n",
    "\n",
    "while not mc.status.player_is_idle:\n",
    "   time.sleep(0.5)\n",
    "\n",
    "mc.stop()\n",
    "\n",
    "castdevice.quit_app()"
   ]
  },
  {
   "cell_type": "code",
   "execution_count": null,
   "metadata": {},
   "outputs": [],
   "source": [
    "import pathlib\n",
    "from gtts import gTTS\n",
    "\n",
    "path = pathlib.Path(r\"/Users/josiahhounyo/Documents/py_server\")\n",
    "\n",
    "tts = gTTS(\"Hi! Welcome Josiah\",lang='en')\n",
    "tts.save(path / \"welcome.mp3\")"
   ]
  },
  {
   "cell_type": "code",
   "execution_count": null,
   "metadata": {},
   "outputs": [],
   "source": []
  },
  {
   "cell_type": "code",
   "execution_count": null,
   "metadata": {},
   "outputs": [],
   "source": []
  }
 ],
 "metadata": {
  "kernelspec": {
   "display_name": "Python 3",
   "language": "python",
   "name": "python3"
  },
  "language_info": {
   "codemirror_mode": {
    "name": "ipython",
    "version": 3
   },
   "file_extension": ".py",
   "mimetype": "text/x-python",
   "name": "python",
   "nbconvert_exporter": "python",
   "pygments_lexer": "ipython3",
   "version": "3.7.6"
  }
 },
 "nbformat": 4,
 "nbformat_minor": 2
}
